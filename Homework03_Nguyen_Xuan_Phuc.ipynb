{
 "cells": [
  {
   "cell_type": "code",
   "execution_count": 3,
   "id": "17f13161-3dae-4bb2-a7aa-1826052c0443",
   "metadata": {},
   "outputs": [
    {
     "name": "stdout",
     "output_type": "stream",
     "text": [
      "1 3 5 7 9 11 13 15 17 19 21 23 25 27 29 31 33 35 37 39 41 43 45 47 49 51 53 55 57 59 61 63 65 67 69 71 73 75 77 79 81 83 85 87 89 91 93 95 97 99 "
     ]
    }
   ],
   "source": [
    "#01\n",
    "for i in range (1,101,2):\n",
    "    print(i, sep = \" \", end = \" \")"
   ]
  },
  {
   "cell_type": "code",
   "execution_count": 4,
   "id": "4cb20f47-fd52-4246-95b7-8da9b9e3f50b",
   "metadata": {},
   "outputs": [
    {
     "name": "stdout",
     "output_type": "stream",
     "text": [
      "6 12 18 24 30 36 42 48 54 60 66 72 78 84 90 96 "
     ]
    }
   ],
   "source": [
    "#02\n",
    "for i in range (2,101,2):\n",
    "    if (i%3 == 0):\n",
    "        print(i, sep = \" \", end = \" \")"
   ]
  },
  {
   "cell_type": "code",
   "execution_count": 6,
   "id": "42f8a93a-6a64-4136-875c-c7b4aa0d0711",
   "metadata": {},
   "outputs": [
    {
     "name": "stdin",
     "output_type": "stream",
     "text": [
      " 19\n"
     ]
    },
    {
     "name": "stdout",
     "output_type": "stream",
     "text": [
      "1*19: 19\n",
      "2*19: 38\n",
      "3*19: 57\n",
      "4*19: 76\n",
      "5*19: 95\n",
      "6*19: 114\n",
      "7*19: 133\n",
      "8*19: 152\n",
      "9*19: 171\n",
      "10*19: 190\n",
      "11*19: 209\n",
      "12*19: 228\n",
      "13*19: 247\n",
      "14*19: 266\n",
      "15*19: 285\n",
      "16*19: 304\n",
      "17*19: 323\n",
      "18*19: 342\n",
      "19*19: 361\n"
     ]
    }
   ],
   "source": [
    "#03\n",
    "n = int(input())\n",
    "for i in range (1,n+1):\n",
    "    print (f\"{i}*{n}: {i*n}\")"
   ]
  },
  {
   "cell_type": "code",
   "execution_count": null,
   "id": "42319db2-e363-4fb1-81bb-c5896d13e907",
   "metadata": {},
   "outputs": [],
   "source": [
    "#04\n"
   ]
  },
  {
   "cell_type": "code",
   "execution_count": 7,
   "id": "d9d6ae38-4944-4cef-87fc-f899faa4ef76",
   "metadata": {},
   "outputs": [
    {
     "name": "stdin",
     "output_type": "stream",
     "text": [
      " 100\n"
     ]
    },
    {
     "name": "stdout",
     "output_type": "stream",
     "text": [
      "5050\n"
     ]
    }
   ],
   "source": [
    "#05\n",
    "n = int(input())\n",
    "ans = 0\n",
    "for i in range (1,n+1):\n",
    "    ans = ans+i\n",
    "print(ans)"
   ]
  },
  {
   "cell_type": "code",
   "execution_count": 8,
   "id": "7132cc5e-1023-41bb-9fc9-af4071630615",
   "metadata": {},
   "outputs": [
    {
     "name": "stdin",
     "output_type": "stream",
     "text": [
      " 100\n"
     ]
    },
    {
     "name": "stdout",
     "output_type": "stream",
     "text": [
      "1 2 4 5 10 20 25 50 100 "
     ]
    }
   ],
   "source": [
    "#06\n",
    "n = int(input())\n",
    "for i in range (1,n+1):\n",
    "    if (n%i == 0):\n",
    "        print(i, sep = \" \", end = \" \")"
   ]
  },
  {
   "cell_type": "code",
   "execution_count": 9,
   "id": "cd583e01-9845-4390-8f07-0a94e0bed3f2",
   "metadata": {},
   "outputs": [
    {
     "name": "stdin",
     "output_type": "stream",
     "text": [
      " 100\n"
     ]
    },
    {
     "name": "stdout",
     "output_type": "stream",
     "text": [
      "9\n"
     ]
    }
   ],
   "source": [
    "#07\n",
    "n = int(input())\n",
    "cnt = 0\n",
    "for i in range (1,n+1):\n",
    "    if (n%i == 0):\n",
    "        cnt += 1\n",
    "print(cnt)"
   ]
  },
  {
   "cell_type": "code",
   "execution_count": 11,
   "id": "a3340679-cfaf-45d3-a526-16c0ceb11575",
   "metadata": {},
   "outputs": [
    {
     "name": "stdin",
     "output_type": "stream",
     "text": [
      " 20 100\n"
     ]
    },
    {
     "name": "stdout",
     "output_type": "stream",
     "text": [
      "1 2 4 5 10 20 "
     ]
    }
   ],
   "source": [
    "#08\n",
    "n,m = map(int,input().split())\n",
    "for i in range (1,n+1):\n",
    "    if (n%i == 0 and m%i == 0):\n",
    "        print(i, sep = \" \", end = \" \")"
   ]
  },
  {
   "cell_type": "code",
   "execution_count": 17,
   "id": "304cafa1-2c6a-4fd4-8b5f-4ca8bed73b55",
   "metadata": {},
   "outputs": [
    {
     "name": "stdin",
     "output_type": "stream",
     "text": [
      " 25\n"
     ]
    },
    {
     "name": "stdout",
     "output_type": "stream",
     "text": [
      "Yes\n"
     ]
    }
   ],
   "source": [
    "#09\n",
    "import math as mt\n",
    "n = int(input())\n",
    "tmp = mt.isqrt(n)\n",
    "if (tmp*tmp == n):\n",
    "    print(\"Yes\")\n",
    "else:\n",
    "    print(\"No\")"
   ]
  },
  {
   "cell_type": "code",
   "execution_count": 19,
   "id": "dccddb0b-29a9-499e-853c-4406ed314e5c",
   "metadata": {},
   "outputs": [
    {
     "name": "stdin",
     "output_type": "stream",
     "text": [
      " 28\n"
     ]
    },
    {
     "name": "stdout",
     "output_type": "stream",
     "text": [
      "Yes\n"
     ]
    }
   ],
   "source": [
    "#10\n",
    "n = int(input())\n",
    "check = 0\n",
    "for i in range (1,n):\n",
    "    if (n%i == 0):\n",
    "        check += i\n",
    "if (check == n):\n",
    "    print(\"Yes\")\n",
    "else:\n",
    "    print(\"No\")"
   ]
  },
  {
   "cell_type": "code",
   "execution_count": 20,
   "id": "bf531a40-9714-4216-94a4-ed722018d8ad",
   "metadata": {},
   "outputs": [
    {
     "name": "stdin",
     "output_type": "stream",
     "text": [
      " -1\n",
      " -2\n",
      " -3\n",
      " -4\n",
      " 10\n"
     ]
    },
    {
     "name": "stdout",
     "output_type": "stream",
     "text": [
      "Ban nhap dung chuong trinh\n"
     ]
    }
   ],
   "source": [
    "#11\n",
    "check = False\n",
    "while (check == False):\n",
    "    n = int(input())\n",
    "    if (n > 0):\n",
    "        check = True\n",
    "print(\"Ban nhap dung chuong trinh\")"
   ]
  },
  {
   "cell_type": "code",
   "execution_count": 22,
   "id": "507fad9f-6572-4106-9920-ceeca7f79483",
   "metadata": {},
   "outputs": [
    {
     "name": "stdin",
     "output_type": "stream",
     "text": [
      " 6\n"
     ]
    },
    {
     "name": "stdout",
     "output_type": "stream",
     "text": [
      "2\n"
     ]
    }
   ],
   "source": [
    "#12\n",
    "n = int(input())\n",
    "ans = 0\n",
    "for i in range (1,n+1):\n",
    "    check = 0\n",
    "    for j in range (1,i+1):\n",
    "        check += j\n",
    "    if (check < n):\n",
    "        ans = i\n",
    "print(ans)"
   ]
  },
  {
   "cell_type": "code",
   "execution_count": 27,
   "id": "75b8a176-ade8-4c2a-9d0e-d300fce20406",
   "metadata": {},
   "outputs": [
    {
     "name": "stdin",
     "output_type": "stream",
     "text": [
      " 10\n"
     ]
    },
    {
     "name": "stdout",
     "output_type": "stream",
     "text": [
      "12367\n"
     ]
    }
   ],
   "source": [
    "#13\n",
    "n = float(input())\n",
    "total = 0\n",
    "ans = 1\n",
    "while (total <= n):\n",
    "    total += 1/ans\n",
    "    ans += 1\n",
    "print(ans-1)"
   ]
  },
  {
   "cell_type": "code",
   "execution_count": 29,
   "id": "e23c787b-f12c-4e81-abea-129c007c8d4c",
   "metadata": {},
   "outputs": [
    {
     "name": "stdin",
     "output_type": "stream",
     "text": [
      " 2\n",
      " 99\n",
      " 0\n",
      " 232323\n",
      " -1\n"
     ]
    },
    {
     "name": "stdout",
     "output_type": "stream",
     "text": [
      "232323 0\n"
     ]
    }
   ],
   "source": [
    "#14\n",
    "check = True\n",
    "max_val = -1000000000000\n",
    "min_val = -max_val\n",
    "while (check == True):\n",
    "    n = int(input())\n",
    "    if (n != -1):\n",
    "        max_val = max(max_val,n)\n",
    "        min_val = min(min_val,n)\n",
    "    else:\n",
    "        check = False\n",
    "print(max_val,min_val)"
   ]
  },
  {
   "cell_type": "code",
   "execution_count": 32,
   "id": "57c86c1b-4292-4cfa-9d2e-1cc61876636d",
   "metadata": {},
   "outputs": [
    {
     "name": "stdin",
     "output_type": "stream",
     "text": [
      " 1090\n"
     ]
    },
    {
     "name": "stdout",
     "output_type": "stream",
     "text": [
      "4\n"
     ]
    }
   ],
   "source": [
    "#15_Cach_01\n",
    "n = int(input())\n",
    "ans = 0\n",
    "while (n//10 != 0):\n",
    "    ans += 1\n",
    "    n = n//10\n",
    "print(ans+1)"
   ]
  },
  {
   "cell_type": "code",
   "execution_count": 33,
   "id": "952900d9-d246-4563-ab14-28d506e95beb",
   "metadata": {},
   "outputs": [
    {
     "name": "stdin",
     "output_type": "stream",
     "text": [
      " 1090\n"
     ]
    },
    {
     "name": "stdout",
     "output_type": "stream",
     "text": [
      "4\n"
     ]
    }
   ],
   "source": [
    "#15_Cach_02\n",
    "n = int(input())\n",
    "s = str(n)\n",
    "print(len(s))"
   ]
  },
  {
   "cell_type": "code",
   "execution_count": 35,
   "id": "4741f06e-10d2-416a-9354-da763b42456e",
   "metadata": {},
   "outputs": [
    {
     "name": "stdin",
     "output_type": "stream",
     "text": [
      " 87444444\n"
     ]
    },
    {
     "name": "stdout",
     "output_type": "stream",
     "text": [
      "7 1\n"
     ]
    }
   ],
   "source": [
    "#16\n",
    "n = int(input())\n",
    "odd_count = 0\n",
    "even_count = 0\n",
    "while (n//10 != 0):\n",
    "    tmp = n%10\n",
    "    if (tmp%2 == 0):\n",
    "        even_count += 1\n",
    "    else:\n",
    "        odd_count += 1\n",
    "    n = n//10\n",
    "if (n%2 == 0):\n",
    "    even_count += 1\n",
    "else:\n",
    "    odd_count += 1\n",
    "print(even_count, odd_count)\n",
    "    "
   ]
  },
  {
   "cell_type": "code",
   "execution_count": 37,
   "id": "2ed6c840-3ebe-4c57-b3dc-919a675a081b",
   "metadata": {},
   "outputs": [
    {
     "name": "stdin",
     "output_type": "stream",
     "text": [
      " 98765\n"
     ]
    },
    {
     "name": "stdout",
     "output_type": "stream",
     "text": [
      "35\n"
     ]
    }
   ],
   "source": [
    "#17\n",
    "n = int(input())\n",
    "ans = 0\n",
    "while (n//10 != 0):\n",
    "    ans += n%10\n",
    "    n = n//10\n",
    "ans += n\n",
    "print(ans)"
   ]
  },
  {
   "cell_type": "code",
   "execution_count": 47,
   "id": "532cf5c9-779d-4c6c-85f0-277c22fdb5c8",
   "metadata": {},
   "outputs": [
    {
     "name": "stdin",
     "output_type": "stream",
     "text": [
      " 59049\n"
     ]
    },
    {
     "name": "stdout",
     "output_type": "stream",
     "text": [
      "Yes\n"
     ]
    }
   ],
   "source": [
    "#18\n",
    "n = int(input())\n",
    "if (n%3 != 0):\n",
    "    print(\"No\")\n",
    "else:\n",
    "    while (n%3 == 0):\n",
    "        n = n//3\n",
    "    if (n != 1):\n",
    "        print(\"No\")\n",
    "    else:\n",
    "        print(\"Yes\")"
   ]
  },
  {
   "cell_type": "code",
   "execution_count": 48,
   "id": "1966c8d8-543b-4204-a988-1867a8ebed7a",
   "metadata": {},
   "outputs": [
    {
     "name": "stdin",
     "output_type": "stream",
     "text": [
      " 13\n"
     ]
    },
    {
     "name": "stdout",
     "output_type": "stream",
     "text": [
      "8\n"
     ]
    }
   ],
   "source": [
    "#19\n",
    "n = int(input())\n",
    "ans = 1\n",
    "tmp = 1\n",
    "while (ans < n):\n",
    "    tmp = ans\n",
    "    ans = ans + tmp\n",
    "print(tmp)"
   ]
  },
  {
   "cell_type": "code",
   "execution_count": 53,
   "id": "898fa76c-f926-441f-840e-0294d3b96aab",
   "metadata": {},
   "outputs": [
    {
     "name": "stdin",
     "output_type": "stream",
     "text": [
      " 3456\n"
     ]
    },
    {
     "name": "stdout",
     "output_type": "stream",
     "text": [
      "2\n"
     ]
    }
   ],
   "source": [
    "#20\n",
    "n = int(input())\n",
    "ans = 0\n",
    "while (n//10 != 0):\n",
    "    tmp = n%10\n",
    "    check = False\n",
    "    if (tmp == 2):\n",
    "        check = True\n",
    "    for i in range (2,tmp):\n",
    "        if (tmp%i == 0):\n",
    "            check = True\n",
    "    if (check == True):\n",
    "        ans += 1\n",
    "    n = n//10\n",
    "flag = False\n",
    "for i in range (2,n):\n",
    "    if (n%i == 0):\n",
    "        flag = True\n",
    "if (n == 2):\n",
    "    flag = True\n",
    "if (flag == True):\n",
    "    ans += 1\n",
    "print(ans)\n",
    "        "
   ]
  }
 ],
 "metadata": {
  "kernelspec": {
   "display_name": "Python 3 (ipykernel)",
   "language": "python",
   "name": "python3"
  },
  "language_info": {
   "codemirror_mode": {
    "name": "ipython",
    "version": 3
   },
   "file_extension": ".py",
   "mimetype": "text/x-python",
   "name": "python",
   "nbconvert_exporter": "python",
   "pygments_lexer": "ipython3",
   "version": "3.13.6"
  }
 },
 "nbformat": 4,
 "nbformat_minor": 5
}
