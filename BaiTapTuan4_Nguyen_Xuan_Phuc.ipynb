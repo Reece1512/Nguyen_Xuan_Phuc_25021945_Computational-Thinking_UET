{
 "cells": [
  {
   "cell_type": "code",
   "execution_count": 2,
   "id": "840de559-fa66-4aa6-b04f-57cb83161c9e",
   "metadata": {},
   "outputs": [
    {
     "name": "stdin",
     "output_type": "stream",
     "text": [
      " 100\n"
     ]
    },
    {
     "name": "stdout",
     "output_type": "stream",
     "text": [
      "5050\n"
     ]
    }
   ],
   "source": [
    "#W4A1\n",
    "n = int(input())\n",
    "ans = 0\n",
    "for i in range (1,n+1):\n",
    "    ans += i\n",
    "print(ans)\n"
   ]
  },
  {
   "cell_type": "code",
   "execution_count": 4,
   "id": "1776a048-67f3-410a-b798-f3065c3fbfec",
   "metadata": {},
   "outputs": [
    {
     "name": "stdin",
     "output_type": "stream",
     "text": [
      "Nhap mot so nguyen:  abc\n"
     ]
    },
    {
     "name": "stdout",
     "output_type": "stream",
     "text": [
      "Ban nhap khong phai la mot so nguyen\n"
     ]
    }
   ],
   "source": [
    "#W4A1_mo_rong\n",
    "try:\n",
    "    n = int(input(\"Nhap mot so nguyen: \"))\n",
    "    ans = 0\n",
    "    if (n == 0):\n",
    "        ans = 0\n",
    "    if (n > 0):\n",
    "        for i in range (1,n+1):\n",
    "            ans += i\n",
    "        print(ans)\n",
    "    else:\n",
    "        print(\"Ban nhap khong phai la mot so nguyen\")\n",
    "except ValueError:\n",
    "    print(\"Ban nhap khong phai la mot so nguyen\")"
   ]
  },
  {
   "cell_type": "code",
   "execution_count": 10,
   "id": "64be969a-994d-4b01-8a93-ea526d87266c",
   "metadata": {},
   "outputs": [
    {
     "name": "stdin",
     "output_type": "stream",
     "text": [
      " 99\n",
      " 88\n",
      " 33\n",
      " 44\n",
      " 47\n"
     ]
    }
   ],
   "source": [
    "#W4A2\n",
    "check = False\n",
    "while (check != True):\n",
    "    n = int(input())\n",
    "    check_prime = True\n",
    "    if (n == 1):\n",
    "        check_prime = False\n",
    "    elif (n == 2):\n",
    "        check_prime = True\n",
    "    else:\n",
    "        for i in range (2, n):\n",
    "            if (n%i == 0):\n",
    "                check_prime = False\n",
    "    if (check_prime == True):\n",
    "        check = True\n",
    "            "
   ]
  },
  {
   "cell_type": "code",
   "execution_count": 16,
   "id": "04811698-8b97-4507-b5ab-4c8cb3b0e610",
   "metadata": {},
   "outputs": [
    {
     "name": "stdin",
     "output_type": "stream",
     "text": [
      " 4\n"
     ]
    },
    {
     "name": "stdout",
     "output_type": "stream",
     "text": [
      "24\n"
     ]
    }
   ],
   "source": [
    "#W4A3\n",
    "n = int(input())\n",
    "ans = 1\n",
    "for i in range (1,n+1):\n",
    "    ans = ans*i\n",
    "print(ans)"
   ]
  },
  {
   "cell_type": "code",
   "execution_count": 75,
   "id": "24bc27c8-279e-431d-816f-bee2c1f79622",
   "metadata": {},
   "outputs": [
    {
     "name": "stdin",
     "output_type": "stream",
     "text": [
      " 8958928493829483948\n"
     ]
    },
    {
     "name": "stdout",
     "output_type": "stream",
     "text": [
      "19\n"
     ]
    }
   ],
   "source": [
    "#W4A4\n",
    "n = int(input())\n",
    "if (n < 0):\n",
    "    n = (-1)*n\n",
    "#print(n//10)\n",
    "ans = 0\n",
    "if (n//10 == 0):\n",
    "    ans = 1\n",
    "else:\n",
    "    while (n//10 != 0):\n",
    "        ans += 1\n",
    "        #print(n)\n",
    "        n = n//10\n",
    "    ans = ans + 1\n",
    "print(ans)"
   ]
  },
  {
   "cell_type": "code",
   "execution_count": 68,
   "id": "e21cfb65-7f32-4743-8059-ae26166cacf9",
   "metadata": {},
   "outputs": [
    {
     "name": "stdin",
     "output_type": "stream",
     "text": [
      " 5\n",
      " 1\n",
      " 42\n",
      " 3\n",
      " 4\n",
      " 5\n"
     ]
    },
    {
     "name": "stdout",
     "output_type": "stream",
     "text": [
      "I've found the meaning of life\n"
     ]
    }
   ],
   "source": [
    "#W4A5\n",
    "n = int(input())\n",
    "check = False\n",
    "#arr = list(map(int,input().split()))\n",
    "for i in range (n):\n",
    "    x = int(input())\n",
    "    if (x == 42):\n",
    "        check = True\n",
    "if (check == True):\n",
    "    print(\"I've found the meaning of life\")\n",
    "else:\n",
    "    print(\"It's a joke!\")"
   ]
  },
  {
   "cell_type": "code",
   "execution_count": 35,
   "id": "b24ae5b4-caa6-4d57-8484-bee195dbfcf6",
   "metadata": {},
   "outputs": [
    {
     "name": "stdin",
     "output_type": "stream",
     "text": [
      " 2 10\n"
     ]
    },
    {
     "name": "stdout",
     "output_type": "stream",
     "text": [
      "17\n"
     ]
    }
   ],
   "source": [
    "#W4A6\n",
    "n,m = map(int,input().split())\n",
    "ans = 0\n",
    "for i in range (n, m+1):\n",
    "    check_prime = True\n",
    "    if (i == 1):\n",
    "        check_prime = False\n",
    "    elif (i == 2):\n",
    "        check_prime = True\n",
    "    else:\n",
    "        for j in range (2,i):\n",
    "            if (i%j == 0):\n",
    "                check_prime = False\n",
    "    if (check_prime == True):\n",
    "        ans += i\n",
    "print (ans)"
   ]
  },
  {
   "cell_type": "code",
   "execution_count": 39,
   "id": "7367da77-ec99-4850-9034-befd35f79132",
   "metadata": {},
   "outputs": [
    {
     "name": "stdin",
     "output_type": "stream",
     "text": [
      " 10\n"
     ]
    },
    {
     "name": "stdout",
     "output_type": "stream",
     "text": [
      "5\n"
     ]
    }
   ],
   "source": [
    "#W2A7\n",
    "n = int(input())\n",
    "ans = -100000000000000000\n",
    "for i in range (2,n+1):\n",
    "    check_prime = True\n",
    "    if (i == 1):\n",
    "        check_prime = False\n",
    "    elif (i == 2):\n",
    "        check_prime = True\n",
    "    else:\n",
    "        for j in range (2,i):\n",
    "            if (i%j == 0):\n",
    "                check_prime = False\n",
    "    if (check_prime == True and n%i == 0):\n",
    "        ans = max(ans,i)\n",
    "print(ans)"
   ]
  },
  {
   "cell_type": "code",
   "execution_count": 103,
   "id": "c8c0add8-0352-48ca-8580-ce666f5e5c92",
   "metadata": {},
   "outputs": [
    {
     "name": "stdin",
     "output_type": "stream",
     "text": [
      " 123\n"
     ]
    },
    {
     "name": "stdout",
     "output_type": "stream",
     "text": [
      "1 444\n"
     ]
    }
   ],
   "source": [
    "#W2A8\n",
    "n = int(input())\n",
    "\n",
    "check = False\n",
    "cnt = 0\n",
    "\n",
    "n_1 = str(n)\n",
    "n_2 = n_1[::-1]\n",
    "if (n_1 == n_2):\n",
    "    print (1, n)\n",
    "else:\n",
    "    while (check == False):\n",
    "        cnt += 1\n",
    "        s1 = str(n)\n",
    "        tmp = s1\n",
    "        s2 = s1[::-1]\n",
    "        number = int(s1) + int(s2)\n",
    "        check_palin = True\n",
    "        number_1 = str(number)\n",
    "        number_2 = number_1[::-1]\n",
    "        if (number_1 == number_2):\n",
    "            check = True\n",
    "            print (cnt, number_1)"
   ]
  },
  {
   "cell_type": "code",
   "execution_count": 94,
   "id": "60e547ad-8d81-4098-84b9-5844b081905d",
   "metadata": {},
   "outputs": [
    {
     "name": "stdin",
     "output_type": "stream",
     "text": [
      " 130\n"
     ]
    },
    {
     "name": "stdout",
     "output_type": "stream",
     "text": [
      "1 4 9 16 25 36 49 64 81 "
     ]
    }
   ],
   "source": [
    "#W2A9\n",
    "import math as mt\n",
    "n = int(input())\n",
    "cnt = 0\n",
    "for i in range (1,n+1):\n",
    "    tmp = mt.isqrt(i)\n",
    "    if (tmp*tmp == i):\n",
    "        value = i\n",
    "        check = True\n",
    "        s1 = str(i)\n",
    "        #print(s1)\n",
    "        sorted(s1)\n",
    "        s2 = \"\".join(sorted(s1))\n",
    "        #print(s2)\n",
    "        for i in range (1,len(s2)):\n",
    "            if (s2[i] == s2[i-1]):\n",
    "                check = False\n",
    "        if (check == True):\n",
    "            cnt += 1\n",
    "            print(value, sep = \" \", end = \" \")\n",
    "if (cnt == 0):\n",
    "    print (\"No number\")\n",
    "        "
   ]
  },
  {
   "cell_type": "code",
   "execution_count": 45,
   "id": "5d619dc0-26d2-4049-b932-a229da24b299",
   "metadata": {},
   "outputs": [
    {
     "name": "stdin",
     "output_type": "stream",
     "text": [
      " 5\n"
     ]
    },
    {
     "name": "stdout",
     "output_type": "stream",
     "text": [
      "3 8\n"
     ]
    }
   ],
   "source": [
    "#W2A10\n",
    "n = int(input())\n",
    "value = 1\n",
    "length = 1\n",
    "for i in range (2, n+1):\n",
    "    local_length = 0\n",
    "    tmp = i\n",
    "    if (i != 1):\n",
    "        #print(i)\n",
    "        while (i != 1):\n",
    "            if (i%2 == 0):\n",
    "                #print(i)\n",
    "                i = i//2\n",
    "                local_length += 1\n",
    "            else:\n",
    "                #print(i)\n",
    "                i = 3*i + 1\n",
    "                local_length += 1\n",
    "        local_length += 1\n",
    "        if (local_length > length):\n",
    "            value = tmp\n",
    "            length = local_length\n",
    "print(value, length)\n",
    "                "
   ]
  },
  {
   "cell_type": "code",
   "execution_count": 47,
   "id": "6b043d19-6d8b-4c8e-a49c-4e35dd463f60",
   "metadata": {},
   "outputs": [
    {
     "name": "stdin",
     "output_type": "stream",
     "text": [
      " 4\n"
     ]
    },
    {
     "name": "stdout",
     "output_type": "stream",
     "text": [
      "2\n"
     ]
    }
   ],
   "source": [
    "#W2A11\n",
    "n = int(input())\n",
    "cnt = 0\n",
    "for i in range (1,n+1):\n",
    "    if (n%i == 0 and i%2 == 0):\n",
    "        cnt += 1\n",
    "print(cnt)"
   ]
  },
  {
   "cell_type": "code",
   "execution_count": 55,
   "id": "ead963c0-7bab-429c-9a84-861998d2ca0e",
   "metadata": {},
   "outputs": [
    {
     "name": "stdin",
     "output_type": "stream",
     "text": [
      " 10000000 2\n"
     ]
    },
    {
     "name": "stdout",
     "output_type": "stream",
     "text": [
      "10140490\n"
     ]
    }
   ],
   "source": [
    "#W2A12\n",
    "n,m = map(int,input().split())\n",
    "n = float(n)\n",
    "for i in range (m):\n",
    "    n += 0.007*n\n",
    "print(f\"{n:.0f}\")\n"
   ]
  },
  {
   "cell_type": "code",
   "execution_count": 58,
   "id": "b3e0dbdd-f286-4e5a-a2ab-bddcff0494e0",
   "metadata": {},
   "outputs": [
    {
     "name": "stdin",
     "output_type": "stream",
     "text": [
      " 220 284\n"
     ]
    },
    {
     "name": "stdout",
     "output_type": "stream",
     "text": [
      "true\n"
     ]
    }
   ],
   "source": [
    "#W2A13\n",
    "n,m = map(int,input().split())\n",
    "\n",
    "#n\n",
    "cnt_n = 0\n",
    "for i in range (1,n):\n",
    "    if (n%i == 0):\n",
    "        cnt_n += i\n",
    "\n",
    "#m\n",
    "cnt_m = 0\n",
    "for i in range (1,m):\n",
    "    if (m%i == 0):\n",
    "        cnt_m += i\n",
    "\n",
    "#print(cnt_n, cnt_m)\n",
    "\n",
    "if (cnt_n == m and cnt_m == n):\n",
    "    print(\"true\")\n",
    "else:\n",
    "    print(\"false\")"
   ]
  },
  {
   "cell_type": "code",
   "execution_count": 59,
   "id": "21b9d654-b0eb-4f7d-a585-2b5c644497fc",
   "metadata": {},
   "outputs": [
    {
     "name": "stdin",
     "output_type": "stream",
     "text": [
      " 6 4\n"
     ]
    },
    {
     "name": "stdout",
     "output_type": "stream",
     "text": [
      "2\n"
     ]
    }
   ],
   "source": [
    "#W2A14\n",
    "n,m = map(int,input().split())\n",
    "ans = 1\n",
    "for i in range (1,n):\n",
    "    if (n%i == 0):\n",
    "        if (m%i == 0):\n",
    "            ans = max(ans,i)\n",
    "print(ans)"
   ]
  },
  {
   "cell_type": "code",
   "execution_count": 66,
   "id": "5132423e-858a-4adb-9074-b89b9ad50c25",
   "metadata": {},
   "outputs": [
    {
     "name": "stdin",
     "output_type": "stream",
     "text": [
      " 36 100\n"
     ]
    },
    {
     "name": "stdout",
     "output_type": "stream",
     "text": [
      "22 14\n"
     ]
    }
   ],
   "source": [
    "#W2A15\n",
    "n,m = map(int, input().split())\n",
    "if (m%2 != 0):\n",
    "    print(\"invalid\")\n",
    "else:\n",
    "    y = (m//2-n)\n",
    "    x = n-y\n",
    "    #print(x,y)\n",
    "    if (x > 0 and y > 0):\n",
    "        print(x,y)\n",
    "    else:\n",
    "        print(\"invalid\")"
   ]
  }
 ],
 "metadata": {
  "kernelspec": {
   "display_name": "Python 3 (ipykernel)",
   "language": "python",
   "name": "python3"
  },
  "language_info": {
   "codemirror_mode": {
    "name": "ipython",
    "version": 3
   },
   "file_extension": ".py",
   "mimetype": "text/x-python",
   "name": "python",
   "nbconvert_exporter": "python",
   "pygments_lexer": "ipython3",
   "version": "3.13.6"
  }
 },
 "nbformat": 4,
 "nbformat_minor": 5
}
