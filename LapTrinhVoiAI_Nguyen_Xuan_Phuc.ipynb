{
 "cells": [
  {
   "cell_type": "code",
   "execution_count": 1,
   "id": "3fec8db3-a48f-48dd-a754-8371e8254e78",
   "metadata": {},
   "outputs": [
    {
     "name": "stdout",
     "output_type": "stream",
     "text": [
      "hello world\n"
     ]
    }
   ],
   "source": [
    "print(\"hello world\")"
   ]
  },
  {
   "cell_type": "code",
   "execution_count": 6,
   "id": "3668efec-c5d7-4784-84bd-c6cca4863738",
   "metadata": {},
   "outputs": [
    {
     "name": "stdout",
     "output_type": "stream",
     "text": [
      "<class 'int'>....2\n",
      "7\n"
     ]
    }
   ],
   "source": [
    "#W1A1\n",
    "a = 7\n",
    "b = 5\n",
    "c = a-b\n",
    "print(type(a), c, sep = '....')\n",
    "print(a)\n",
    "\n",
    "#giai thich cua chat GPT\n",
    "#a = 7        # Gán số 7 cho biến a\n",
    "#b = 5        # Gán số 5 cho biến b\n",
    "#c = a - b    # Lấy a trừ b (7 - 5) rồi gán kết quả cho c\n",
    "#print(c)     # In giá trị của c ra màn hình (kết quả là 2)\n",
    "\n"
   ]
  },
  {
   "cell_type": "code",
   "execution_count": 11,
   "id": "ac7b7b05-cc26-4c9c-8953-2a8f5319a8c5",
   "metadata": {},
   "outputs": [
    {
     "name": "stdout",
     "output_type": "stream",
     "text": [
      "Thanh Pho Ha Noi - Nam 2025\n",
      "<class 'str'>\n",
      "<class 'bool'>\n",
      "<class 'float'>\n"
     ]
    }
   ],
   "source": [
    "#W1A2\n",
    "city = \"Ha Noi\"\n",
    "year = 2025\n",
    "print(\"Thanh Pho\", city, \"- Nam\", year)\n",
    "print(type(city))\n",
    "print(type(False))\n",
    "print(type(9.7))"
   ]
  },
  {
   "cell_type": "code",
   "execution_count": 14,
   "id": "f7214895-c48d-4f62-93c8-4a0753b0d770",
   "metadata": {},
   "outputs": [
    {
     "name": "stdout",
     "output_type": "stream",
     "text": [
      "1\n",
      "3\n",
      "6\n",
      "10\n"
     ]
    }
   ],
   "source": [
    "#W1A3\n",
    "n = 4\n",
    "t = 0\n",
    "for i in range (1, n+1):\n",
    "    t += i #t=t+i\n",
    "    print(t)\n",
    "\n",
    "#n = 4        # Gán số 4 cho biến n\n",
    "#t = 0        # Khởi tạo biến t = 0, dùng để lưu tổng\n",
    "\n",
    "# Vòng lặp chạy từ 1 đến n (bao gồm cả n)\n",
    "#for i in range(1, n+1):\n",
    "#    t += i   # Cộng dồn: t = t + i\n",
    "#    print(t) # In giá trị t sau mỗi lần cộng"
   ]
  },
  {
   "cell_type": "code",
   "execution_count": 18,
   "id": "7da14709-0ae3-4fd0-a1d2-043bb461b636",
   "metadata": {},
   "outputs": [
    {
     "name": "stdout",
     "output_type": "stream",
     "text": [
      "1 la so le\n",
      "2 la so chan\n",
      "3 la so le\n",
      "4 la so chan\n"
     ]
    }
   ],
   "source": [
    "#W1A4\n",
    "numbers = [1,2,3,4]\n",
    "for x in numbers:\n",
    "    if (x%2==0):\n",
    "        print(x, \"la so chan\")\n",
    "    else:\n",
    "        print(x, \"la so le\")\n",
    "\n",
    "#Giai thich cua AI\n",
    "#numbers = [1, 2, 3, 4]        # Tạo một danh sách gồm 4 số: 1, 2, 3, 4\n",
    "\n",
    "#for x in numbers:              # Vòng lặp: lần lượt lấy từng phần tử trong danh sách gán cho biến x\n",
    "#    if (x % 2 == 0):           # Kiểm tra: nếu x chia hết cho 2 (số chẵn)\n",
    "#        print(x, \"la so chan\") # Nếu đúng → in ra \"x là số chẵn\"\n",
    "#    else:                      # Ngược lại (không chia hết cho 2 → số lẻ)\n",
    "#        print(x, \"la so le\")   # In ra \"x là số lẻ\""
   ]
  },
  {
   "cell_type": "code",
   "execution_count": 23,
   "id": "cc6440e2-6c22-4b6f-8056-e9adf653bf24",
   "metadata": {},
   "outputs": [
    {
     "name": "stdout",
     "output_type": "stream",
     "text": [
      "So phan tu trong danh sach la: 4\n"
     ]
    }
   ],
   "source": [
    "#W1A5\n",
    "animals = [\"cat\", \"dog\", \"cat\", \"bird\"]\n",
    "count = 0\n",
    "for a in animals:\n",
    "    count += 1\n",
    "print(\"So phan tu trong danh sach la:\", count)\n",
    "\n",
    "#Giai thich cua AI\n",
    "#animals = [\"cat\", \"dog\", \"cat\", \"bird\"]  \n",
    "# Tạo một danh sách (list) gồm 4 phần tử: \"cat\", \"dog\", \"cat\", \"bird\"\n",
    "\n",
    "#count = 0  \n",
    "# Biến count dùng để đếm số phần tử, ban đầu gán = 0\n",
    "\n",
    "#for a in animals:  \n",
    "    # Vòng lặp: duyệt qua từng phần tử trong danh sách animals\n",
    "#    count += 1   # Mỗi lần lặp thì cộng thêm 1 vào biến count\n",
    "\n",
    "#print(\"So phan tu trong danh sach la:\", count)  \n",
    "# In ra số phần tử đã đếm được"
   ]
  },
  {
   "cell_type": "code",
   "execution_count": 35,
   "id": "5cc56e64-8d46-4dd8-9623-a51922a3c999",
   "metadata": {},
   "outputs": [
    {
     "name": "stdout",
     "output_type": "stream",
     "text": [
      "=== AI Prediction System ===\n",
      "1) Sentiment  analysis\n",
      "2) Weather forecast\n",
      "3) Exit\n",
      "Please choose an option\n"
     ]
    }
   ],
   "source": [
    "#W1A6\n",
    "print(\"=== AI Prediction System ===\")\n",
    "print(\"1) Sentiment  analysis\")\n",
    "print(\"2) Weather forecast\")\n",
    "print(\"3) Exit\")\n",
    "print(\"Please choose an option\")\n",
    "\n",
    "# In ra tiêu đề của hệ thống\n",
    "#print(\"=== AI Prediction System ===\") # In ra các tùy chọn cho người dùng\n",
    "#print(\"1) Sentiment analysis\")   # Lựa chọn 1: phân tích cảm xúc\n",
    "#print(\"2) Weather forecast\")    # Lựa chọn 2: dự báo thời tiết\n",
    "#print(\"3) Exit\")                # Lựa chọn 3: thoát chương trình\n",
    "\n",
    "#print(\"Please choose an option:\") # In ra lời nhắc để người dùng nhập lựa chọn\n"
   ]
  },
  {
   "cell_type": "code",
   "execution_count": 28,
   "id": "8c9e18dc-53a6-428d-982b-4de154362323",
   "metadata": {},
   "outputs": [
    {
     "name": "stdout",
     "output_type": "stream",
     "text": [
      "AI dang hoc lan 1\n",
      "AI dang hoc lan 2\n",
      "AI dang hoc lan 3\n",
      "Huan luyen xong\n"
     ]
    }
   ],
   "source": [
    "#W1A8\n",
    "for i in range (3):\n",
    "    print(\"AI dang hoc lan\", i+1)\n",
    "print(\"Huan luyen xong\")\n",
    "\n",
    "# Vòng lặp chạy 3 lần, với i lần lượt = 0, 1, 2\n",
    "#for i in range(3):\n",
    "    # Mỗi lần lặp in ra thông báo AI đang học,\n",
    "    # i + 1 để đếm từ 1 thay vì từ 0\n",
    "#    print(\"AI đang học lần\", i + 1)\n",
    "\n",
    "# Lệnh này nằm ngoài vòng lặp, nên chỉ chạy 1 lần sau khi học xong\n",
    "#print(\"Huấn luyện xong!\")"
   ]
  },
  {
   "cell_type": "code",
   "execution_count": 31,
   "id": "24af9eab-d0e0-4348-af6e-4b368ad80f61",
   "metadata": {},
   "outputs": [
    {
     "name": "stdin",
     "output_type": "stream",
     "text": [
      "Nhap so:  6\n"
     ]
    },
    {
     "name": "stdout",
     "output_type": "stream",
     "text": [
      "So chan\n"
     ]
    }
   ],
   "source": [
    "#W1A7\n",
    "num = int(input(\"Nhap so: \"))\n",
    "if (num%2==0):\n",
    "    print(\"So chan\")\n",
    "else:\n",
    "    print(\"So le\")\n",
    "\n",
    "#num = input(\"Nhập số: \") \n",
    "#if num % 2 = 0: \n",
    "#print(\"Số chẵn\") \n",
    "#else print(\"Số lẻ\")\n",
    "\n",
    "#Cac loi\n",
    "#Chua ep kieu cua \"num\" (Cach sua: num = int(input(\"Nhap so: \"))\n",
    "#Chua co dau 2 cham sau else va chua xuong duong"
   ]
  },
  {
   "cell_type": "code",
   "execution_count": 36,
   "id": "19936966-1163-4b30-9015-8839b1fd3b89",
   "metadata": {},
   "outputs": [
    {
     "name": "stdout",
     "output_type": "stream",
     "text": [
      "=== AI Prediction System ===\n",
      "1 Sentiment analysis\n",
      "2 Weather forecast\n",
      "3 Exit\n",
      "Please choose an option:\n"
     ]
    }
   ],
   "source": [
    "#W1A10\n",
    "print (\"=== AI Prediction System ===\")\n",
    "print(\"1 Sentiment analysis\")\n",
    "print(\"2 Weather forecast\")\n",
    "print('3 Exit')\n",
    "print(\"Please choose an option:\")\n",
    "\n",
    "# Simple menu\n",
    "#print \"=== AI Prediction System ===\"\n",
    "#print(\"1) Sentiment analysis\"\n",
    "#print(\"2) Weather forecast\"))\n",
    "#print('3) Exit'\n",
    "#print(\"Please choose an option:\")\n",
    "\n",
    "#Cac loi:\n",
    "#Dong print so 1, chua co dau mo ngoac + dong ngoac\n",
    "#Dong print so 2, long ngoac don + dau ngoac kep bi sai\n",
    "#Dong print so 3, ngoac bi thua o cho so 2\n",
    "#Dong print so 4, ngoac bi sai cho o cho so 3\n"
   ]
  },
  {
   "cell_type": "code",
   "execution_count": 38,
   "id": "f577846a-ffa9-4fc4-9346-c8d34f2a34da",
   "metadata": {},
   "outputs": [
    {
     "name": "stdout",
     "output_type": "stream",
     "text": [
      "Du doan con vat: cat\n",
      "Du doan con vat: dog\n",
      "Du doan con vat: fish\n"
     ]
    }
   ],
   "source": [
    "for x in [\"cat\", \"dog\", \"fish\"]: #Duyet toan bo cac phan tu trong day\n",
    "    print(\"Du doan con vat:\", x) #Dong nay se in ra 3 dong, noi dung la \"Du doan con vat (tung con vat trong day)\""
   ]
  },
  {
   "cell_type": "code",
   "execution_count": null,
   "id": "636981d5-6702-4472-a747-b0c7d465b3b9",
   "metadata": {},
   "outputs": [],
   "source": []
  }
 ],
 "metadata": {
  "kernelspec": {
   "display_name": "Python 3 (ipykernel)",
   "language": "python",
   "name": "python3"
  },
  "language_info": {
   "codemirror_mode": {
    "name": "ipython",
    "version": 3
   },
   "file_extension": ".py",
   "mimetype": "text/x-python",
   "name": "python",
   "nbconvert_exporter": "python",
   "pygments_lexer": "ipython3",
   "version": "3.13.7"
  }
 },
 "nbformat": 4,
 "nbformat_minor": 5
}
