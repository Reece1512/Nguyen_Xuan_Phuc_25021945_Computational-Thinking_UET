{
 "cells": [
  {
   "cell_type": "code",
   "execution_count": 51,
   "id": "2fd91590-2fa5-40f2-aa87-d48cf1459f28",
   "metadata": {},
   "outputs": [
    {
     "name": "stdin",
     "output_type": "stream",
     "text": [
      " 10 7\n"
     ]
    },
    {
     "name": "stdout",
     "output_type": "stream",
     "text": [
      "7 10\n"
     ]
    }
   ],
   "source": [
    "#W3A2\n",
    "n,m = map(int, input().split())\n",
    "print(((n^m)^n), ((n^m)^m))"
   ]
  },
  {
   "cell_type": "code",
   "execution_count": 10,
   "id": "fd7965d0-8080-422b-abf8-edf78ce7d390",
   "metadata": {},
   "outputs": [
    {
     "name": "stdin",
     "output_type": "stream",
     "text": [
      " 1024\n"
     ]
    },
    {
     "name": "stdout",
     "output_type": "stream",
     "text": [
      "Yes\n"
     ]
    }
   ],
   "source": [
    "#W3A3\n",
    "n = int(input())\n",
    "if (n&(n-1) == 0):\n",
    "    print (\"Yes\")\n",
    "else:\n",
    "    print (\"No\")"
   ]
  },
  {
   "cell_type": "code",
   "execution_count": 11,
   "id": "fd290951-6a34-4c0e-a621-cfcd03641073",
   "metadata": {},
   "outputs": [
    {
     "name": "stdin",
     "output_type": "stream",
     "text": [
      " 10 3\n"
     ]
    },
    {
     "name": "stdout",
     "output_type": "stream",
     "text": [
      "3\n"
     ]
    }
   ],
   "source": [
    "#W3A4\n",
    "n,m = map(int,input().split())\n",
    "print (n//m)"
   ]
  },
  {
   "cell_type": "code",
   "execution_count": 12,
   "id": "620b5737-1fc5-485a-8a61-670164f7ef16",
   "metadata": {},
   "outputs": [
    {
     "name": "stdin",
     "output_type": "stream",
     "text": [
      " 10 8\n"
     ]
    },
    {
     "name": "stdout",
     "output_type": "stream",
     "text": [
      "2\n"
     ]
    }
   ],
   "source": [
    "#W3A5\n",
    "n,m = map(int,input().split())\n",
    "print((n//m) + 1)"
   ]
  },
  {
   "cell_type": "code",
   "execution_count": 14,
   "id": "1ee60027-1219-4cc3-bb0f-6346320f3661",
   "metadata": {},
   "outputs": [
    {
     "name": "stdin",
     "output_type": "stream",
     "text": [
      " 9\n"
     ]
    },
    {
     "name": "stdout",
     "output_type": "stream",
     "text": [
      "Odd\n"
     ]
    }
   ],
   "source": [
    "#W3A6\n",
    "n = int(input())\n",
    "if (n%2 == 0):\n",
    "    print(\"Even\")\n",
    "else:\n",
    "    print(\"Odd\")"
   ]
  },
  {
   "cell_type": "code",
   "execution_count": 16,
   "id": "f5dc5048-abee-4aa1-a61c-2472c73dd232",
   "metadata": {},
   "outputs": [
    {
     "name": "stdin",
     "output_type": "stream",
     "text": [
      " -10 -19\n"
     ]
    },
    {
     "name": "stdout",
     "output_type": "stream",
     "text": [
      "Yes\n"
     ]
    }
   ],
   "source": [
    "#W3A7\n",
    "n,m = map(int,input().split())\n",
    "if (n < 0 and m < 0):\n",
    "    print (\"Yes\")\n",
    "else:\n",
    "    print (\"No\")"
   ]
  },
  {
   "cell_type": "code",
   "execution_count": 19,
   "id": "2a918a02-1b6c-4f09-aa65-8f5fb4e7ecb1",
   "metadata": {},
   "outputs": [
    {
     "name": "stdin",
     "output_type": "stream",
     "text": [
      " abc ajsksksdksdksdksdksdk\n"
     ]
    },
    {
     "name": "stdout",
     "output_type": "stream",
     "text": [
      "No\n"
     ]
    }
   ],
   "source": [
    "#W3A8\n",
    "s1,s2 = map(str,input().split())\n",
    "cnt1 = len(s1)\n",
    "cnt2 = len(s2)\n",
    "if (cnt1 > cnt2):\n",
    "    print(\"Yes\")\n",
    "else:\n",
    "    print(\"No\")"
   ]
  },
  {
   "cell_type": "code",
   "execution_count": 20,
   "id": "4eae7fc9-245a-4a01-8ddd-9622178433ae",
   "metadata": {},
   "outputs": [
    {
     "name": "stdin",
     "output_type": "stream",
     "text": [
      " 3 4 5\n"
     ]
    },
    {
     "name": "stdout",
     "output_type": "stream",
     "text": [
      "Yes\n"
     ]
    }
   ],
   "source": [
    "#W3A9\n",
    "a,b,c = map(int, input().split())\n",
    "if (a+b>c and b+c>a and c+a>b):\n",
    "    print(\"Yes\")\n",
    "else:\n",
    "    print(\"No\")"
   ]
  },
  {
   "cell_type": "code",
   "execution_count": 22,
   "id": "90d77d99-1314-472c-9dd0-88a4e444ddc0",
   "metadata": {},
   "outputs": [
    {
     "name": "stdin",
     "output_type": "stream",
     "text": [
      " 8 1 9 232323\n"
     ]
    },
    {
     "name": "stdout",
     "output_type": "stream",
     "text": [
      "232323\n"
     ]
    }
   ],
   "source": [
    "#W3A10\n",
    "x1,x2,x3,x4 = map(int,input().split())\n",
    "ans = x1\n",
    "if (ans < x2):\n",
    "    ans = x2\n",
    "if (ans < x3):\n",
    "    ans = x3\n",
    "if (ans < x4):\n",
    "    ans = x4\n",
    "print(ans)"
   ]
  },
  {
   "cell_type": "code",
   "execution_count": 29,
   "id": "631fba7b-2ac8-4c92-9f38-c2a79080565a",
   "metadata": {},
   "outputs": [
    {
     "name": "stdin",
     "output_type": "stream",
     "text": [
      " 8 8 8\n"
     ]
    },
    {
     "name": "stdout",
     "output_type": "stream",
     "text": [
      "Tam giac deu\n"
     ]
    }
   ],
   "source": [
    "#W3A11\n",
    "a,b,c = map(int,input().split())\n",
    "if (a+b>c and b+c>a and c+a>b):\n",
    "    if (a == b and a == c):\n",
    "        print(\"Tam giac deu\")\n",
    "    elif (a == b and a != c):\n",
    "        print(\"Tam giac can\")\n",
    "    else:\n",
    "        print(\"Tam giac thuong\")\n",
    "else:\n",
    "    print(\"Khong phai la tam giac\")"
   ]
  },
  {
   "cell_type": "code",
   "execution_count": 25,
   "id": "5bb86eca-dfd0-416f-ac89-5fa0dc464989",
   "metadata": {},
   "outputs": [
    {
     "name": "stdin",
     "output_type": "stream",
     "text": [
      " 1900\n"
     ]
    },
    {
     "name": "stdout",
     "output_type": "stream",
     "text": [
      "No\n"
     ]
    }
   ],
   "source": [
    "#W3A12\n",
    "n = int(input())\n",
    "if ((n%4 == 0 and n%100 != 0) or (n%400 == 0)):\n",
    "    print(\"Yes\")\n",
    "else:\n",
    "    print(\"No\")"
   ]
  },
  {
   "cell_type": "code",
   "execution_count": 33,
   "id": "0ae21ae2-c1ce-4894-bd3c-304b60bddd21",
   "metadata": {},
   "outputs": [
    {
     "name": "stdin",
     "output_type": "stream",
     "text": [
      " 7 9\n"
     ]
    },
    {
     "name": "stdout",
     "output_type": "stream",
     "text": [
      "-1.29\n"
     ]
    }
   ],
   "source": [
    "#W3A14\n",
    "a,b = map(float,input().split())\n",
    "if (a == 0):\n",
    "    if (b == 0):\n",
    "        print(\"Vo so nghiem\")\n",
    "    else:\n",
    "        print(\"Vo nghiem\")\n",
    "else:\n",
    "    ans = -b/a\n",
    "    print(f\"{ans:.2f}\")"
   ]
  },
  {
   "cell_type": "code",
   "execution_count": 35,
   "id": "cfe3c687-db99-410b-9c9b-69e934f4c636",
   "metadata": {},
   "outputs": [
    {
     "name": "stdin",
     "output_type": "stream",
     "text": [
      " 5.68\n"
     ]
    },
    {
     "name": "stdout",
     "output_type": "stream",
     "text": [
      "Trung binh\n"
     ]
    }
   ],
   "source": [
    "#W3A15\n",
    "n = float(input())\n",
    "if (n >= 8.0):\n",
    "    print(\"Gioi\")\n",
    "elif (n>=6.5):\n",
    "    print(\"Kha\")\n",
    "elif (n>=5.0):\n",
    "    print(\"Trung binh\")\n",
    "else:\n",
    "    print(\"Yeu\")"
   ]
  },
  {
   "cell_type": "code",
   "execution_count": 45,
   "id": "1949dc21-9b75-4e4f-ae43-385a3e575117",
   "metadata": {},
   "outputs": [
    {
     "name": "stdin",
     "output_type": "stream",
     "text": [
      " 17.35\n"
     ]
    },
    {
     "name": "stdout",
     "output_type": "stream",
     "text": [
      "17 18 17\n"
     ]
    }
   ],
   "source": [
    "#W3A16\n",
    "n = float(input())\n",
    "s = str(n)\n",
    "n_convert = \"\"\n",
    "for i in range (0,len(s)):\n",
    "    if (s[i] == '.'):\n",
    "        mark = i\n",
    "        break\n",
    "    else:\n",
    "        n_convert += s[i]\n",
    "ans = 0\n",
    "for i in n_convert:\n",
    "    ans = ans*10 + int(i)\n",
    "if (s[mark+1] >= '5'):\n",
    "    print(ans,ans+1,ans+1)\n",
    "else:\n",
    "    print(ans, ans+1, ans)"
   ]
  },
  {
   "cell_type": "code",
   "execution_count": 47,
   "id": "ca7e725c-dc9a-4b46-800a-e6a64a1d9b46",
   "metadata": {},
   "outputs": [
    {
     "name": "stdin",
     "output_type": "stream",
     "text": [
      " 2 4 8 16\n"
     ]
    },
    {
     "name": "stdout",
     "output_type": "stream",
     "text": [
      "Yes\n"
     ]
    }
   ],
   "source": [
    "#W3A17\n",
    "a,b,c,d = map(int,input().split())\n",
    "check = True\n",
    "if (a == b == c == d == 0):\n",
    "    print(\"Yes\")\n",
    "else:\n",
    "    if (b%a != 0):\n",
    "        print(\"No\")\n",
    "    else:\n",
    "        tmp = b//a\n",
    "        if (b*tmp == c and c*tmp == d):\n",
    "            print(\"Yes\")\n",
    "        else:\n",
    "            print(\"No\")"
   ]
  }
 ],
 "metadata": {
  "kernelspec": {
   "display_name": "Python 3 (ipykernel)",
   "language": "python",
   "name": "python3"
  },
  "language_info": {
   "codemirror_mode": {
    "name": "ipython",
    "version": 3
   },
   "file_extension": ".py",
   "mimetype": "text/x-python",
   "name": "python",
   "nbconvert_exporter": "python",
   "pygments_lexer": "ipython3",
   "version": "3.13.6"
  }
 },
 "nbformat": 4,
 "nbformat_minor": 5
}
