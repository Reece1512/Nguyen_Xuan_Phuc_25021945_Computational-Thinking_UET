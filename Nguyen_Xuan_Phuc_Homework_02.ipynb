{
 "cells": [
  {
   "cell_type": "code",
   "execution_count": 1,
   "id": "f6d52b43-aab3-49fd-8feb-89d09bac900c",
   "metadata": {},
   "outputs": [
    {
     "name": "stdin",
     "output_type": "stream",
     "text": [
      " 5 4\n"
     ]
    },
    {
     "name": "stdout",
     "output_type": "stream",
     "text": [
      "20 18\n"
     ]
    }
   ],
   "source": [
    "#01\n",
    "n,m = map(int, input().split())\n",
    "a = n*m\n",
    "p = 2*(n+m)\n",
    "print (a,p)"
   ]
  },
  {
   "cell_type": "code",
   "execution_count": 2,
   "id": "0b69d979-fd6b-4ccf-9ee6-b9af3876c347",
   "metadata": {},
   "outputs": [
    {
     "name": "stdin",
     "output_type": "stream",
     "text": [
      " 3\n"
     ]
    },
    {
     "name": "stdout",
     "output_type": "stream",
     "text": [
      "28.259999999999998 18.84\n"
     ]
    }
   ],
   "source": [
    "#02\n",
    "r = float(input())\n",
    "a = float(3.14*r*r)\n",
    "p = float(2*3.14*r)\n",
    "print (a, p)"
   ]
  },
  {
   "cell_type": "code",
   "execution_count": 3,
   "id": "9e77ca9c-c1ad-4e49-8641-0e23e60843cc",
   "metadata": {},
   "outputs": [
    {
     "name": "stdin",
     "output_type": "stream",
     "text": [
      " 3 4 5\n"
     ]
    },
    {
     "name": "stdout",
     "output_type": "stream",
     "text": [
      "Tam giac vuong\n"
     ]
    }
   ],
   "source": [
    "#03\n",
    "a,b,c, = map(int, input().split())\n",
    "if (a > b+c or b > c+a or c > a+b):\n",
    "    print(\"Khong la ba canh cua mot tam giac\")\n",
    "else:\n",
    "    if (a == b == c):\n",
    "        print(\"Tam giac deu\")\n",
    "    elif (a == b and a != c or a == c and a != b or b == c and b!=a):\n",
    "        print(\"Tam giac can\")\n",
    "    elif (a*a == b*b + c*c or b*b == c*c + a*a or c*c == a*a + b*b):\n",
    "        print(\"Tam giac vuong\")\n",
    "    else:\n",
    "        print(\"Tam giac thuong\")"
   ]
  },
  {
   "cell_type": "code",
   "execution_count": 4,
   "id": "bfdb4dbe-428c-434d-b18a-db79a9b50172",
   "metadata": {},
   "outputs": [
    {
     "name": "stdin",
     "output_type": "stream",
     "text": [
      " 3 4\n"
     ]
    },
    {
     "name": "stdout",
     "output_type": "stream",
     "text": [
      "-1.3333333333333333\n"
     ]
    }
   ],
   "source": [
    "#04\n",
    "a,b = map(float, input().split())\n",
    "if (a == 0):\n",
    "    print(\"Vo nghiem\")\n",
    "else:\n",
    "    print(-b/a)"
   ]
  },
  {
   "cell_type": "code",
   "execution_count": 16,
   "id": "ea052917-b931-46e7-9f91-1965978eb444",
   "metadata": {},
   "outputs": [
    {
     "name": "stdin",
     "output_type": "stream",
     "text": [
      " 1 2 1\n"
     ]
    },
    {
     "name": "stdout",
     "output_type": "stream",
     "text": [
      "-1.0\n"
     ]
    }
   ],
   "source": [
    "#05\n",
    "import math as mt\n",
    "a,b,c = map(int, input().split())\n",
    "delta = b*b - 4*a*c\n",
    "if (delta < 0):\n",
    "    print(\"Vo nghiem\")\n",
    "elif (delta > 0):\n",
    "    print(float((-b + mt.sqrt(delta))/(2*a)), float((-b - mt.sqrt(delta))/(2*a)))\n",
    "else:\n",
    "    print(float((-b + mt.sqrt(delta))/(2*a)))"
   ]
  },
  {
   "cell_type": "code",
   "execution_count": 17,
   "id": "8bb91b79-03f3-430c-9cfa-9ce53864d74f",
   "metadata": {},
   "outputs": [
    {
     "name": "stdin",
     "output_type": "stream",
     "text": [
      " 1 2 3 4\n"
     ]
    },
    {
     "name": "stdout",
     "output_type": "stream",
     "text": [
      "4\n"
     ]
    }
   ],
   "source": [
    "#06\n",
    "a,b,c,d = map(int,input().split())\n",
    "arr = [a,b,c,d]\n",
    "ans = -1000000000000\n",
    "for i in arr:\n",
    "    if (ans <= i):\n",
    "        ans = i\n",
    "print(ans)"
   ]
  },
  {
   "cell_type": "code",
   "execution_count": 18,
   "id": "bea6c20b-9a7d-464a-a198-06e510a9e43b",
   "metadata": {},
   "outputs": [
    {
     "name": "stdin",
     "output_type": "stream",
     "text": [
      " 1 2 3 4\n"
     ]
    },
    {
     "name": "stdout",
     "output_type": "stream",
     "text": [
      "1\n"
     ]
    }
   ],
   "source": [
    "#07\n",
    "a,b,c,d = map(int,input().split())\n",
    "arr = [a,b,c,d]\n",
    "ans = 1000000000\n",
    "for i in arr:\n",
    "    if (ans >= i):\n",
    "        ans = i\n",
    "print(ans)"
   ]
  },
  {
   "cell_type": "code",
   "execution_count": 34,
   "id": "5a8863c5-a4b5-4513-9ad7-f122da093edc",
   "metadata": {},
   "outputs": [
    {
     "name": "stdin",
     "output_type": "stream",
     "text": [
      " 1 1 2\n",
      " 5 4 9\n"
     ]
    },
    {
     "name": "stdout",
     "output_type": "stream",
     "text": [
      "1.0 1.0\n"
     ]
    }
   ],
   "source": [
    "#08\n",
    "a,b,m = map(int,input().split())\n",
    "c,d,n = map(int,input().split())\n",
    "if (a/c == b/d and m/n != b/d):\n",
    "    print(\"He phuong trinh vo nghiem\")\n",
    "elif (a/c == b/d and m/n == b/d):\n",
    "    print(\"He phuong trinh vo so nghiem\")\n",
    "else:\n",
    "    ratio = float(a/c)\n",
    "    c_new = c*ratio\n",
    "    d_new = d*ratio\n",
    "    n_new = n*ratio\n",
    "    y = float((n_new-m)/(d_new-b))\n",
    "    x = float((m - b*y)/a)\n",
    "    print(x,y)"
   ]
  },
  {
   "cell_type": "code",
   "execution_count": 27,
   "id": "c69aa453-8262-4998-ae15-0d6497d1d17f",
   "metadata": {},
   "outputs": [
    {
     "name": "stdin",
     "output_type": "stream",
     "text": [
      " 156\n"
     ]
    },
    {
     "name": "stdout",
     "output_type": "stream",
     "text": [
      "0 2 36\n"
     ]
    }
   ],
   "source": [
    "#09\n",
    "x = int(input())\n",
    "h = x//3600\n",
    "x = x - h*3600\n",
    "m = x//60\n",
    "x = x - m*60\n",
    "s = x%60\n",
    "print (h,m,s)"
   ]
  },
  {
   "cell_type": "code",
   "execution_count": 28,
   "id": "6bbbf243-d79e-460a-9be2-8c37f374a613",
   "metadata": {},
   "outputs": [
    {
     "name": "stdin",
     "output_type": "stream",
     "text": [
      " 1 1\n",
      " 1 \n",
      " 1 1\n"
     ]
    },
    {
     "name": "stdout",
     "output_type": "stream",
     "text": [
      "No\n"
     ]
    }
   ],
   "source": [
    "#10\n",
    "x0,y0 = map(int,input().split())\n",
    "r = int(input())\n",
    "x, y = map(int,input().split())\n",
    "if ((x-x0)*(x-x0)+(y-y0)*(y-y0)==r*r):\n",
    "    print(\"Yes\")\n",
    "else:\n",
    "    print(\"No\")"
   ]
  },
  {
   "cell_type": "code",
   "execution_count": 32,
   "id": "dbb89f05-7a84-413a-aa83-e0caaf873f3c",
   "metadata": {},
   "outputs": [
    {
     "name": "stdin",
     "output_type": "stream",
     "text": [
      " 4 0.5\n"
     ]
    },
    {
     "name": "stdout",
     "output_type": "stream",
     "text": [
      "2.0\n"
     ]
    }
   ],
   "source": [
    "#11\n",
    "x,y = map(float,input().split())\n",
    "print(x**y)"
   ]
  }
 ],
 "metadata": {
  "kernelspec": {
   "display_name": "Python 3 (ipykernel)",
   "language": "python",
   "name": "python3"
  },
  "language_info": {
   "codemirror_mode": {
    "name": "ipython",
    "version": 3
   },
   "file_extension": ".py",
   "mimetype": "text/x-python",
   "name": "python",
   "nbconvert_exporter": "python",
   "pygments_lexer": "ipython3",
   "version": "3.13.7"
  }
 },
 "nbformat": 4,
 "nbformat_minor": 5
}
