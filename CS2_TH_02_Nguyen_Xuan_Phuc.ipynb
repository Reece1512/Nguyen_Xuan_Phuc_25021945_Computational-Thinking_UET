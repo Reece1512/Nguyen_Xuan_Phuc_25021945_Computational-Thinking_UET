{
 "cells": [
  {
   "cell_type": "code",
   "execution_count": 1,
   "id": "5264ac13-5287-4fb9-b68f-132dce4f3e5a",
   "metadata": {},
   "outputs": [
    {
     "name": "stdout",
     "output_type": "stream",
     "text": [
      "Hello World\n"
     ]
    }
   ],
   "source": [
    "#W2A1\n",
    "print(\"Hello World\", sep = ' ', end = '\\n')"
   ]
  },
  {
   "cell_type": "code",
   "execution_count": 3,
   "id": "e2f2af36-6cab-4e0c-a374-9f023b4928ff",
   "metadata": {},
   "outputs": [
    {
     "name": "stdin",
     "output_type": "stream",
     "text": [
      " LeBron James\n"
     ]
    },
    {
     "name": "stdout",
     "output_type": "stream",
     "text": [
      "Hello LeBron James\n"
     ]
    }
   ],
   "source": [
    "#W2A2\n",
    "s = input()\n",
    "print(\"Hello\", s)"
   ]
  },
  {
   "cell_type": "code",
   "execution_count": 16,
   "id": "b0a10a29-8020-421e-b141-39312f74fc97",
   "metadata": {},
   "outputs": [
    {
     "name": "stdin",
     "output_type": "stream",
     "text": [
      " 5\n",
      " 2\n"
     ]
    },
    {
     "name": "stdout",
     "output_type": "stream",
     "text": [
      "7\n",
      "3\n",
      "10\n",
      "2\n",
      "1\n",
      "2.5\n"
     ]
    }
   ],
   "source": [
    "#W2A3\n",
    "a = int(input())\n",
    "b = int(input())\n",
    "print (a+b)\n",
    "print (a-b)\n",
    "print (a*b)\n",
    "print (a//b)\n",
    "print (a%b)\n",
    "print (round(a/b,2))"
   ]
  },
  {
   "cell_type": "code",
   "execution_count": 5,
   "id": "1b8f7956-d85a-4465-93f2-09593d3c978c",
   "metadata": {},
   "outputs": [
    {
     "name": "stdin",
     "output_type": "stream",
     "text": [
      " 1 2 3 4 5 6\n"
     ]
    },
    {
     "name": "stdout",
     "output_type": "stream",
     "text": [
      "4.2\n"
     ]
    }
   ],
   "source": [
    "#W2A4\n",
    "x1,x2,x3,x4,x5,x6 = list(map(int, input().split()))\n",
    "total = float(((x1+x2+x3)+(x4+x5)*2+x6*3)/10)\n",
    "print(round(total,1))"
   ]
  },
  {
   "cell_type": "code",
   "execution_count": 6,
   "id": "ac490bbe-1906-4845-98cb-f16ce7634f13",
   "metadata": {},
   "outputs": [
    {
     "name": "stdin",
     "output_type": "stream",
     "text": [
      " 3 4\n"
     ]
    },
    {
     "name": "stdout",
     "output_type": "stream",
     "text": [
      "81\n"
     ]
    }
   ],
   "source": [
    "#W2A5\n",
    "a, b = map(int, input().split())\n",
    "print(a**b)"
   ]
  },
  {
   "cell_type": "code",
   "execution_count": 40,
   "id": "2c5d3878-cf50-4ffe-af67-bb2382ec794b",
   "metadata": {},
   "outputs": [
    {
     "name": "stdin",
     "output_type": "stream",
     "text": [
      " c\n"
     ]
    },
    {
     "name": "stdout",
     "output_type": "stream",
     "text": [
      "C\n"
     ]
    }
   ],
   "source": [
    "#W2A6\n",
    "ch = input()\n",
    "#print(s.upper())\n",
    "print (chr((ord(ch))-32))"
   ]
  },
  {
   "cell_type": "code",
   "execution_count": 14,
   "id": "c6218c57-b53b-4c5b-8168-a4c85baa90ed",
   "metadata": {},
   "outputs": [
    {
     "name": "stdout",
     "output_type": "stream",
     "text": [
      "512\n",
      "512\n"
     ]
    }
   ],
   "source": [
    "#W2A7\n",
    "A = ((13**2)*3) + 5\n",
    "B = 13**2*3 + 5\n",
    "print (A)\n",
    "print (B)"
   ]
  },
  {
   "cell_type": "code",
   "execution_count": 18,
   "id": "f33afaf2-e29a-46ee-9dfa-880441aac772",
   "metadata": {},
   "outputs": [
    {
     "name": "stdin",
     "output_type": "stream",
     "text": [
      " 24\n"
     ]
    },
    {
     "name": "stdout",
     "output_type": "stream",
     "text": [
      "75.2\n"
     ]
    }
   ],
   "source": [
    "#W2A8\n",
    "n = int(input())\n",
    "f = float(9/5 * n + 32)\n",
    "print(round(f,1))"
   ]
  },
  {
   "cell_type": "code",
   "execution_count": 34,
   "id": "6ee24755-9f6a-4903-ac08-6fbfe233d939",
   "metadata": {},
   "outputs": [
    {
     "name": "stdin",
     "output_type": "stream",
     "text": [
      " 5/2\n"
     ]
    },
    {
     "name": "stdout",
     "output_type": "stream",
     "text": [
      "5+2 = 7\n",
      "5-2 = 3\n",
      "5*2 = 10\n",
      "5//2 = 2\n",
      "5%2 = 1\n",
      "5/2 = 2.50\n"
     ]
    }
   ],
   "source": [
    "#Vi du\n",
    "a, b = map(int, input().split('/'))\n",
    "print (f'{a}+{b} = {a+b}')\n",
    "print (f'{a}-{b} = {a-b}')\n",
    "print (f'{a}*{b} = {a*b}')\n",
    "print (f'{a}//{b} = {a//b}')\n",
    "print (f'{a}%{b} = {a%b}')\n",
    "print (f'{a}/{b} = {a/b:.2f}')"
   ]
  },
  {
   "cell_type": "code",
   "execution_count": 30,
   "id": "500e7f52-1246-4e58-a753-b1bb69729541",
   "metadata": {},
   "outputs": [
    {
     "name": "stdin",
     "output_type": "stream",
     "text": [
      " 4\n"
     ]
    },
    {
     "name": "stdout",
     "output_type": "stream",
     "text": [
      "5.6\n"
     ]
    }
   ],
   "source": [
    "#W2A9\n",
    "n = int(input())\n",
    "total = float(n + 0.3*n + 0.1*n)\n",
    "print(round(total, 2))"
   ]
  },
  {
   "cell_type": "code",
   "execution_count": 37,
   "id": "5ded5a28-08c7-4a59-ad20-9bb87eba6d39",
   "metadata": {},
   "outputs": [
    {
     "name": "stdin",
     "output_type": "stream",
     "text": [
      " Bob Alice Helen\n"
     ]
    },
    {
     "name": "stdout",
     "output_type": "stream",
     "text": [
      "Hi Helen , Alice and Bob\n"
     ]
    }
   ],
   "source": [
    "#W2A10\n",
    "s1, s2, s3 = list(map(str, input().split()))\n",
    "print(\"Hi\", s3, \",\", s2, \"and\", s1)"
   ]
  },
  {
   "cell_type": "code",
   "execution_count": 39,
   "id": "5aee2b23-ffbb-4441-ad94-5bc42eb32f39",
   "metadata": {},
   "outputs": [
    {
     "name": "stdin",
     "output_type": "stream",
     "text": [
      " 2 0\n"
     ]
    },
    {
     "name": "stdout",
     "output_type": "stream",
     "text": [
      "7200\n"
     ]
    }
   ],
   "source": [
    "#W2A11\n",
    "a, b = map(int, input().split())\n",
    "second = 3600*a + 60*b\n",
    "print(second)"
   ]
  },
  {
   "cell_type": "code",
   "execution_count": 41,
   "id": "80d74b8c-ef5b-4eca-9f42-54fb4a8e664b",
   "metadata": {},
   "outputs": [
    {
     "name": "stdout",
     "output_type": "stream",
     "text": [
      "Spring\n",
      "Summer\n",
      "Autumn\n",
      "Winter\n"
     ]
    }
   ],
   "source": [
    "#W2A16\n",
    "print(\"Spring\", end = '\\n')\n",
    "print(\"Summer\", end = '\\n')\n",
    "print(\"Autumn\", end = '\\n')\n",
    "print(\"Winter\", end = '\\n')\n"
   ]
  },
  {
   "cell_type": "code",
   "execution_count": 45,
   "id": "6d19a58f-524d-4b8b-9f6d-426cd01d8f57",
   "metadata": {},
   "outputs": [
    {
     "name": "stdout",
     "output_type": "stream",
     "text": [
      "*\n",
      "**\n",
      "***\n"
     ]
    }
   ],
   "source": [
    "#W2A17\n",
    "for i in range (1, 4):\n",
    "    for j in range (0, i):\n",
    "        print('*', end = '')\n",
    "    print()"
   ]
  },
  {
   "cell_type": "code",
   "execution_count": 46,
   "id": "b439445f-b7da-4865-8aff-dd10f4f64da4",
   "metadata": {},
   "outputs": [
    {
     "name": "stdout",
     "output_type": "stream",
     "text": [
      "### ##   ### ###\n",
      " #  #  #  #   #\n",
      " #  #  #  #   #\n",
      " #  #  #  #   #\n",
      " #  # #   #   #\n"
     ]
    }
   ],
   "source": [
    "#W2A18\n",
    "print(\"### ##   ### ###\")\n",
    "print(\" #  #  #  #   #\")\n",
    "print(\" #  #  #  #   #\")\n",
    "print(\" #  #  #  #   #\")\n",
    "print(\" #  # #   #   #\") "
   ]
  },
  {
   "cell_type": "code",
   "execution_count": 2,
   "id": "77dd91dd-56e2-4529-acc1-60a9cbc2d961",
   "metadata": {},
   "outputs": [
    {
     "name": "stdout",
     "output_type": "stream",
     "text": [
      "Monday\n",
      "Tuesday\n",
      "Wednesday\n",
      "Thurstday\n",
      "Friday\n",
      "Saturday\n",
      "Sunday\n"
     ]
    }
   ],
   "source": [
    "#W2A19\n",
    "print(\"Monday\")\n",
    "print(\"Tuesday\")\n",
    "print(\"Wednesday\")\n",
    "print(\"Thurstday\")\n",
    "print(\"Friday\")\n",
    "print(\"Saturday\")\n",
    "print(\"Sunday\")"
   ]
  },
  {
   "cell_type": "code",
   "execution_count": 3,
   "id": "26ffd57c-7aea-4b6a-88a2-e8487db9506f",
   "metadata": {},
   "outputs": [
    {
     "name": "stdout",
     "output_type": "stream",
     "text": [
      "January\n",
      "February\n",
      "March\n",
      "April\n",
      "May\n",
      "June\n",
      "July\n",
      "August\n",
      "September\n",
      "October\n",
      "November\n",
      "December\n"
     ]
    }
   ],
   "source": [
    "#W2A20\n",
    "print(\"January\")\n",
    "print(\"February\")\n",
    "print(\"March\")\n",
    "print(\"April\")\n",
    "print(\"May\")\n",
    "print(\"June\")\n",
    "print(\"July\")\n",
    "print(\"August\")\n",
    "print(\"September\")\n",
    "print(\"October\")\n",
    "print(\"November\")\n",
    "print(\"December\")"
   ]
  },
  {
   "cell_type": "code",
   "execution_count": 7,
   "id": "2389f27e-4645-4a52-a767-bef34a60b96a",
   "metadata": {},
   "outputs": [
    {
     "name": "stdout",
     "output_type": "stream",
     "text": [
      "Hello, world\n",
      "Hello, world\n",
      "Hello, world\n",
      "Hello, world\n",
      "Hello, world\n",
      "Hello, world\n",
      "Hello, world\n",
      "Hello, world\n",
      "Hello, world\n",
      "Hello, world\n"
     ]
    }
   ],
   "source": [
    "for i in range (0,10):\n",
    "    print(\"Hello, world\")"
   ]
  },
  {
   "cell_type": "code",
   "execution_count": 9,
   "id": "8ab0f982-77d8-46c8-94b8-5d5bef25d2ec",
   "metadata": {},
   "outputs": [
    {
     "name": "stdin",
     "output_type": "stream",
     "text": [
      " 4\n"
     ]
    },
    {
     "name": "stdout",
     "output_type": "stream",
     "text": [
      "96\n"
     ]
    }
   ],
   "source": [
    "#W2A12\n",
    "n = int(input())\n",
    "print(6*(n**2))"
   ]
  },
  {
   "cell_type": "code",
   "execution_count": 13,
   "id": "7d6011bd-691c-47e9-9203-b43eda69ca9d",
   "metadata": {},
   "outputs": [
    {
     "name": "stdin",
     "output_type": "stream",
     "text": [
      " 5 6\n"
     ]
    },
    {
     "name": "stdout",
     "output_type": "stream",
     "text": [
      "0\n"
     ]
    }
   ],
   "source": [
    "#W2A13\n",
    "n,m = map(int, input().split())\n",
    "tmp = n*m\n",
    "tmp = str(tmp)\n",
    "print(tmp[-1])"
   ]
  },
  {
   "cell_type": "code",
   "execution_count": 15,
   "id": "78d1eb0c-6d53-49f6-a1f1-ff3625646bb0",
   "metadata": {},
   "outputs": [
    {
     "name": "stdin",
     "output_type": "stream",
     "text": [
      " 5\n"
     ]
    },
    {
     "name": "stdout",
     "output_type": "stream",
     "text": [
      "121\n"
     ]
    }
   ],
   "source": [
    "#W2A15\n",
    "n = int(input())\n",
    "print(6*n*(n-1)+1)"
   ]
  },
  {
   "cell_type": "code",
   "execution_count": 16,
   "id": "4631c010-e368-4b9d-9b0c-72c4d87d2432",
   "metadata": {},
   "outputs": [
    {
     "name": "stdin",
     "output_type": "stream",
     "text": [
      " 3 4\n"
     ]
    },
    {
     "name": "stdout",
     "output_type": "stream",
     "text": [
      "4 3\n"
     ]
    }
   ],
   "source": [
    "#W2A14\n",
    "n,m = map(int, input().split())\n",
    "n = n+m\n",
    "m = n-m\n",
    "n = n-m\n",
    "print(n,m)"
   ]
  }
 ],
 "metadata": {
  "kernelspec": {
   "display_name": "Python 3 (ipykernel)",
   "language": "python",
   "name": "python3"
  },
  "language_info": {
   "codemirror_mode": {
    "name": "ipython",
    "version": 3
   },
   "file_extension": ".py",
   "mimetype": "text/x-python",
   "name": "python",
   "nbconvert_exporter": "python",
   "pygments_lexer": "ipython3",
   "version": "3.13.6"
  }
 },
 "nbformat": 4,
 "nbformat_minor": 5
}
