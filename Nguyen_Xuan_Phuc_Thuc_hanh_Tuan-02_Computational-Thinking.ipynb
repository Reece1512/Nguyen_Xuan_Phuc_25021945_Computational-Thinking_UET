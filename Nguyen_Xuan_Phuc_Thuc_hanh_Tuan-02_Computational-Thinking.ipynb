{
 "cells": [
  {
   "cell_type": "code",
   "execution_count": 3,
   "id": "7830f02c-58ef-4d28-8286-78940002b9bb",
   "metadata": {},
   "outputs": [
    {
     "name": "stdin",
     "output_type": "stream",
     "text": [
      " 4\n"
     ]
    },
    {
     "name": "stdout",
     "output_type": "stream",
     "text": [
      "8\n"
     ]
    }
   ],
   "source": [
    "#01\n",
    "n = int(input())\n",
    "print (2*n)"
   ]
  },
  {
   "cell_type": "code",
   "execution_count": 5,
   "id": "468c387d-83a7-43db-b495-4ee7aab8aa0e",
   "metadata": {},
   "outputs": [
    {
     "name": "stdin",
     "output_type": "stream",
     "text": [
      " 3 4\n"
     ]
    },
    {
     "name": "stdout",
     "output_type": "stream",
     "text": [
      "4.93\n"
     ]
    }
   ],
   "source": [
    "#02\n",
    "n,m = map(int,input().split())\n",
    "r = float(n/2)\n",
    "area_circle = float(r*r*3.14)\n",
    "print(f'{(n*m)-(area_circle):.2f}')"
   ]
  },
  {
   "cell_type": "code",
   "execution_count": 20,
   "id": "5e658b40-33ea-40da-9172-364597a55511",
   "metadata": {},
   "outputs": [
    {
     "name": "stdin",
     "output_type": "stream",
     "text": [
      " h\n"
     ]
    },
    {
     "name": "stdout",
     "output_type": "stream",
     "text": [
      "H\n"
     ]
    }
   ],
   "source": [
    "#03\n",
    "n = input()\n",
    "if (97 <=ord(n) <= 122):\n",
    "    print(chr(ord(n)-32))\n",
    "else:\n",
    "    print(chr(ord(n)+32))\n"
   ]
  },
  {
   "cell_type": "code",
   "execution_count": 24,
   "id": "0b365a49-1cf8-4fe6-837c-ae4b8469c8dc",
   "metadata": {},
   "outputs": [
    {
     "name": "stdin",
     "output_type": "stream",
     "text": [
      " V\n"
     ]
    },
    {
     "name": "stdout",
     "output_type": "stream",
     "text": [
      "V là kí tự alphabet\n"
     ]
    }
   ],
   "source": [
    "#04\n",
    "n = input()\n",
    "if (65 <= ord(n) <= 97):\n",
    "    print(f'{n} là kí tự alphabet')\n",
    "else:\n",
    "    print(f'{n} không phải là kí tự alphabet')"
   ]
  },
  {
   "cell_type": "code",
   "execution_count": 32,
   "id": "ddb7199a-491c-445d-bca2-7bf64b3491ca",
   "metadata": {},
   "outputs": [
    {
     "name": "stdin",
     "output_type": "stream",
     "text": [
      " C\n"
     ]
    },
    {
     "name": "stdout",
     "output_type": "stream",
     "text": [
      "b\n"
     ]
    }
   ],
   "source": [
    "#05\n",
    "n = input()\n",
    "if (n!='A'):\n",
    "    print(chr(ord(n)+32-1))\n",
    "else:\n",
    "    print(n)"
   ]
  },
  {
   "cell_type": "code",
   "execution_count": 36,
   "id": "634901a0-d738-4abf-a1b1-74816183d560",
   "metadata": {},
   "outputs": [
    {
     "name": "stdin",
     "output_type": "stream",
     "text": [
      " 3 4 5\n"
     ]
    },
    {
     "name": "stdout",
     "output_type": "stream",
     "text": [
      "6.0\n"
     ]
    }
   ],
   "source": [
    "#06\n",
    "import math\n",
    "a,b,c = map(float, input().split())\n",
    "if ((a+b) >= c and (b+c) >= a and (c+a) >= b):\n",
    "    p = float((a+b+c)/2)\n",
    "    area = math.sqrt(p*(p-a)*(p-b)*(p-c))\n",
    "    print (f'{area:.1f}')"
   ]
  },
  {
   "cell_type": "code",
   "execution_count": 37,
   "id": "d505ba83-76c3-4b2c-89df-25ccf71a8f0d",
   "metadata": {},
   "outputs": [
    {
     "name": "stdin",
     "output_type": "stream",
     "text": [
      " Chelseavodich\n"
     ]
    },
    {
     "name": "stdout",
     "output_type": "stream",
     "text": [
      "s o\n"
     ]
    }
   ],
   "source": [
    "#07\n",
    "n = input()\n",
    "print (n[4], n[8])"
   ]
  },
  {
   "cell_type": "code",
   "execution_count": 52,
   "id": "b34425ad-731b-4cf6-b824-344b393fd49d",
   "metadata": {},
   "outputs": [
    {
     "name": "stdin",
     "output_type": "stream",
     "text": [
      "Ten chu ho la: Nguyen Van A\n",
      "Chi so thang truoc: 1020\n",
      "Chi so thang nay: 1070\n"
     ]
    },
    {
     "name": "stdout",
     "output_type": "stream",
     "text": [
      "2152968\n"
     ]
    }
   ],
   "source": [
    "#08\n",
    "\n",
    "def cal(cnt, i):\n",
    "    total = 0\n",
    "    if (cnt == -1):\n",
    "        for i in range (0,i+1):\n",
    "            total += 1984\n",
    "    if (cnt == 0):\n",
    "        for i in range (0,51):\n",
    "            total += 1984\n",
    "        for i in range (51,i+1):\n",
    "            total += 2050\n",
    "    if (cnt == 1):\n",
    "        for i in range (0,51):\n",
    "            total += 1984\n",
    "        for i in range (51,101):\n",
    "            total += 2050\n",
    "        for i in range (101,i+1):\n",
    "            total += 2380\n",
    "    if (cnt == 2):\n",
    "        for i in range (0,51):\n",
    "            total += 1984\n",
    "        for i in range (51,101):\n",
    "            total += 2050\n",
    "        for i in range (101,201):\n",
    "            total += 2380\n",
    "        for i in range (201,i+1):\n",
    "            total += 2998\n",
    "    if (cnt == 3):\n",
    "        for i in range (0,51):\n",
    "            total += 1984\n",
    "        for i in range (51,101):\n",
    "            total += 2050\n",
    "        for i in range (101,201):\n",
    "            total += 2380\n",
    "        for i in range (201,301):\n",
    "            total += 2998\n",
    "        for i in range (301,i+1):\n",
    "            total += 3350\n",
    "    if (cnt == 4):\n",
    "        for i in range (0,51):\n",
    "            total += 1984\n",
    "        for i in range (51,101):\n",
    "            total += 2050\n",
    "        for i in range (101,201):\n",
    "            total += 2380\n",
    "        for i in range (201,301):\n",
    "            total += 2998\n",
    "        for i in range (301,401):\n",
    "            total += 3350\n",
    "        for i in range (401,i+1):\n",
    "            total += 3460\n",
    "    return total\n",
    "    \n",
    "name = input(\"Ten chu ho la:\")\n",
    "a = int(input(\"Chi so thang truoc:\"))\n",
    "b = int(input(\"Chi so thang nay:\"))\n",
    "cnt = -1\n",
    "if (a >= 50):\n",
    "    cnt = 0\n",
    "if (a >= 100):\n",
    "    cnt = 1\n",
    "if (a >= 200):\n",
    "    cnt = 2\n",
    "if (a >= 300):\n",
    "    cnt = 3\n",
    "if (a >= 400):\n",
    "    cnt = 4\n",
    "\n",
    "cnt = -1\n",
    "if (b >= 50):\n",
    "    cnt = 0\n",
    "if (b >= 100):\n",
    "    cnt = 1\n",
    "if (b >= 200):\n",
    "    cnt = 2\n",
    "if (b >= 300):\n",
    "    cnt = 3\n",
    "if (b >= 400):\n",
    "    cnt = 4\n",
    "print (cal(cnt,a)+cal(cnt,b))"
   ]
  },
  {
   "cell_type": "code",
   "execution_count": 54,
   "id": "3600bba4-4501-4a04-b6a0-c7b51beb8cfa",
   "metadata": {},
   "outputs": [
    {
     "name": "stdin",
     "output_type": "stream",
     "text": [
      " 22/05/2006\n"
     ]
    },
    {
     "name": "stdout",
     "output_type": "stream",
     "text": [
      "Valid\n"
     ]
    }
   ],
   "source": [
    "n,m,p = map(int, input().split(\"/\"))\n",
    "check = True\n",
    "if (n <= 0 or n >= 32):\n",
    "    check = False\n",
    "if (m <= 0 or m > 12):\n",
    "    check = False\n",
    "if (m == 2 or m == 4 or m == 6 or m == 9 or m == 11):\n",
    "    if (n >= 31):\n",
    "        check = False\n",
    "if ((p%4 == 0 and p%100!=0) or (p%400==0)):\n",
    "    if (m == 2):\n",
    "        if (0 < n <= 29):\n",
    "            check = True\n",
    "        else:\n",
    "            check = False\n",
    "else:\n",
    "    if (m == 2):\n",
    "        if (n >= 29):\n",
    "            check = False\n",
    "if (check == True):\n",
    "    print (\"Valid\")\n",
    "else:\n",
    "    print (\"Invalid\")\n",
    "    \n",
    "    "
   ]
  },
  {
   "cell_type": "code",
   "execution_count": null,
   "id": "57a9eefb-c6cd-4c63-931a-ec8c20b8c7d3",
   "metadata": {},
   "outputs": [],
   "source": []
  }
 ],
 "metadata": {
  "kernelspec": {
   "display_name": "Python 3 (ipykernel)",
   "language": "python",
   "name": "python3"
  },
  "language_info": {
   "codemirror_mode": {
    "name": "ipython",
    "version": 3
   },
   "file_extension": ".py",
   "mimetype": "text/x-python",
   "name": "python",
   "nbconvert_exporter": "python",
   "pygments_lexer": "ipython3",
   "version": "3.13.7"
  }
 },
 "nbformat": 4,
 "nbformat_minor": 5
}
